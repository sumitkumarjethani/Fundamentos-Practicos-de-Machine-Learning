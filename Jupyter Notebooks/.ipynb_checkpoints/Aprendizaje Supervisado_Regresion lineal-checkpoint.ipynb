{
 "cells": [
  {
   "cell_type": "code",
   "execution_count": 1,
   "metadata": {},
   "outputs": [
    {
     "data": {
      "text/plain": [
       "'C:\\\\Users\\\\sumit\\\\OneDrive\\\\Escritorio\\\\Universidad\\\\P_Curriculares\\\\Fundamentos Prácticos de Machine Learning\\\\Jupyter Notebooks'"
      ]
     },
     "execution_count": 1,
     "metadata": {},
     "output_type": "execute_result"
    }
   ],
   "source": [
    "import sys\n",
    "sys.path.append(\"C:/Users/sumit/OneDrive/Escritorio/Universidad/P_Curriculares/Fundamentos Prácticos de Machine Learning/venv/Lib/site-packages\")\n",
    "\n",
    "%pwd"
   ]
  },
  {
   "cell_type": "markdown",
   "metadata": {},
   "source": [
    "Es momento de crear tu primer modelo de aprendizaje, el más sencillos de todos que es la regresión lineal, anteriormente vimos que necesitamos un atributo y lo que debe predecir.\n",
    "\n",
    "Lo primero que haremos será importar todas las bibliotecas con las que trabajaremos, tu ya tienes los conceptos básicos de numpy además que cuentas con una lectura adicional para tenerlos a la mano.\n",
    "\n",
    "Vamos a practicar el uso de pandas y nuevo nueva librería ques matplotlib la cuál nos ayuda a generar gráficas y que con problemas de este tipo es más sencillo visualizar el aprendizaje."
   ]
  },
  {
   "cell_type": "markdown",
   "metadata": {},
   "source": [
    "Ahora importemos dos librerias, por un lado la que nos ayudará a dividir nuestros datos en entrenamiento y prueba. Recordemos que los algoritmos de aprendizaje deben tener siempre este procedimiento.\n",
    "\n",
    "En tu clase de SciKit Learn vimos la estructura que siempre vamos a utilizar."
   ]
  },
  {
   "cell_type": "code",
   "execution_count": 4,
   "metadata": {
    "id": "mixEVka0lkic"
   },
   "outputs": [],
   "source": [
    "import pandas as pd\n",
    "import matplotlib.pyplot as plt\n",
    "from sklearn.model_selection import train_test_split\n",
    "from sklearn.linear_model import LinearRegression"
   ]
  },
  {
   "cell_type": "markdown",
   "metadata": {},
   "source": [
    "Ahora carguemos un archivo que tendrás disponible para tus pruebas que se llama salarios. Y veamos que es lo que tiene.\n",
    "\n",
    "Muestra dos columnas con las cuáles va a aprender el algoritmo, por un lado son los años de experiencia y por otro es el salario. El objetivo es encontrar esa relación entre ambos, es decir, saber cuántos años de experiencia necesito para ganar aproximadamente cierta cantidad."
   ]
  },
  {
   "cell_type": "code",
   "execution_count": 6,
   "metadata": {
    "colab": {
     "base_uri": "https://localhost:8080/",
     "height": 203
    },
    "executionInfo": {
     "elapsed": 454,
     "status": "ok",
     "timestamp": 1566935657108,
     "user": {
      "displayName": "Yesi Days",
      "photoUrl": "https://lh3.googleusercontent.com/a-/AAuE7mCQ_NbHPfVEbt660uXIuQNohtXqgW7iQekdhigBQg=s64",
      "userId": "11114933843565574323"
     },
     "user_tz": 300
    },
    "id": "3XXwwA8eo7gQ",
    "outputId": "79941b95-090f-48a7-87e8-8d0ddeda2d57"
   },
   "outputs": [
    {
     "data": {
      "text/html": [
       "<div>\n",
       "<style scoped>\n",
       "    .dataframe tbody tr th:only-of-type {\n",
       "        vertical-align: middle;\n",
       "    }\n",
       "\n",
       "    .dataframe tbody tr th {\n",
       "        vertical-align: top;\n",
       "    }\n",
       "\n",
       "    .dataframe thead th {\n",
       "        text-align: right;\n",
       "    }\n",
       "</style>\n",
       "<table border=\"1\" class=\"dataframe\">\n",
       "  <thead>\n",
       "    <tr style=\"text-align: right;\">\n",
       "      <th></th>\n",
       "      <th>Aexperiencia</th>\n",
       "      <th>Salario</th>\n",
       "    </tr>\n",
       "  </thead>\n",
       "  <tbody>\n",
       "    <tr>\n",
       "      <th>0</th>\n",
       "      <td>10.0</td>\n",
       "      <td>42500</td>\n",
       "    </tr>\n",
       "    <tr>\n",
       "      <th>1</th>\n",
       "      <td>8.0</td>\n",
       "      <td>36302</td>\n",
       "    </tr>\n",
       "    <tr>\n",
       "      <th>2</th>\n",
       "      <td>5.4</td>\n",
       "      <td>35000</td>\n",
       "    </tr>\n",
       "    <tr>\n",
       "      <th>3</th>\n",
       "      <td>2.5</td>\n",
       "      <td>18103</td>\n",
       "    </tr>\n",
       "    <tr>\n",
       "      <th>4</th>\n",
       "      <td>1.0</td>\n",
       "      <td>15000</td>\n",
       "    </tr>\n",
       "  </tbody>\n",
       "</table>\n",
       "</div>"
      ],
      "text/plain": [
       "   Aexperiencia  Salario\n",
       "0          10.0    42500\n",
       "1           8.0    36302\n",
       "2           5.4    35000\n",
       "3           2.5    18103\n",
       "4           1.0    15000"
      ]
     },
     "execution_count": 6,
     "metadata": {},
     "output_type": "execute_result"
    }
   ],
   "source": [
    "dataset = pd.read_csv('../Datasets/salarios.csv')\n",
    "dataset.head(5)"
   ]
  },
  {
   "cell_type": "markdown",
   "metadata": {},
   "source": [
    "Vamos a ver cuantos datos tendremos para entrenar el modelo:"
   ]
  },
  {
   "cell_type": "code",
   "execution_count": 7,
   "metadata": {
    "colab": {
     "base_uri": "https://localhost:8080/",
     "height": 34
    },
    "executionInfo": {
     "elapsed": 492,
     "status": "ok",
     "timestamp": 1566935686627,
     "user": {
      "displayName": "Yesi Days",
      "photoUrl": "https://lh3.googleusercontent.com/a-/AAuE7mCQ_NbHPfVEbt660uXIuQNohtXqgW7iQekdhigBQg=s64",
      "userId": "11114933843565574323"
     },
     "user_tz": 300
    },
    "id": "dgm_dZTJpPxk",
    "outputId": "0eab932b-4d1c-4af0-a2fb-b1b30ca3aa42"
   },
   "outputs": [
    {
     "data": {
      "text/plain": [
       "(30, 2)"
      ]
     },
     "execution_count": 7,
     "metadata": {},
     "output_type": "execute_result"
    }
   ],
   "source": [
    "dataset.shape"
   ]
  },
  {
   "cell_type": "markdown",
   "metadata": {},
   "source": [
    "Ahora vamos a dividir los datos en X y Y. Donde Y es la variable\n",
    "\n",
    "Obtenemos los años de experiencia y el salario del dataframe:\n"
   ]
  },
  {
   "cell_type": "code",
   "execution_count": 18,
   "metadata": {
    "id": "k_DxecT7pT9n"
   },
   "outputs": [
    {
     "data": {
      "text/plain": [
       "(array([[10. ],\n",
       "        [ 8. ],\n",
       "        [ 5.4],\n",
       "        [ 2.5],\n",
       "        [ 1. ],\n",
       "        [ 8. ],\n",
       "        [ 4. ],\n",
       "        [ 6. ],\n",
       "        [ 2. ],\n",
       "        [10. ],\n",
       "        [ 4. ],\n",
       "        [ 7. ],\n",
       "        [ 3. ],\n",
       "        [ 5. ],\n",
       "        [ 2. ],\n",
       "        [ 5. ],\n",
       "        [ 3. ],\n",
       "        [ 2. ],\n",
       "        [ 3. ],\n",
       "        [ 2. ],\n",
       "        [ 5. ],\n",
       "        [ 3.4],\n",
       "        [ 5.3],\n",
       "        [ 2.1],\n",
       "        [ 9.2],\n",
       "        [10. ],\n",
       "        [ 3.2],\n",
       "        [10. ],\n",
       "        [ 4. ],\n",
       "        [ 1. ]]),\n",
       " array([42500, 36302, 35000, 18103, 15000, 37000, 26300, 35201, 18302,\n",
       "        42000, 27000, 35201, 19201, 28000, 17000, 33402, 19000, 18200,\n",
       "        19000, 17301, 28000, 20000, 27900, 17500, 40000, 42500, 18300,\n",
       "        40000, 25000, 15000], dtype=int64))"
      ]
     },
     "execution_count": 18,
     "metadata": {},
     "output_type": "execute_result"
    }
   ],
   "source": [
    "x = dataset.iloc[:, :-1].values\n",
    "y = dataset.iloc[:, 1].values\n",
    "x,y"
   ]
  },
  {
   "cell_type": "markdown",
   "metadata": {},
   "source": [
    "**test_size = 0.2** -> Hemos dividido el conjunto de datos en una proporción de 80% entrenamiento - 20% de prueba, que es una práctica común en la ciencia de datos.\n",
    "\n",
    "El parámetro **random_state** se utiliza para reordenar los datos, si pasamos el valor de 0 entonces todas y cada una de las veces en que lo ejecutamos tendremos un resultado consistente."
   ]
  },
  {
   "cell_type": "code",
   "execution_count": 19,
   "metadata": {
    "id": "-z1WCMVxpj7C"
   },
   "outputs": [],
   "source": [
    "X_train, X_test, Y_train, Y_test = train_test_split(x, y, test_size = 0.2, random_state = 0)"
   ]
  },
  {
   "cell_type": "code",
   "execution_count": 20,
   "metadata": {
    "colab": {
     "base_uri": "https://localhost:8080/",
     "height": 428
    },
    "executionInfo": {
     "elapsed": 433,
     "status": "ok",
     "timestamp": 1566935914752,
     "user": {
      "displayName": "Yesi Days",
      "photoUrl": "https://lh3.googleusercontent.com/a-/AAuE7mCQ_NbHPfVEbt660uXIuQNohtXqgW7iQekdhigBQg=s64",
      "userId": "11114933843565574323"
     },
     "user_tz": 300
    },
    "id": "BajiCAAxqDfw",
    "outputId": "e36823ab-9b8a-49e0-878b-4187d4213dc9"
   },
   "outputs": [
    {
     "data": {
      "text/plain": [
       "array([[10. ],\n",
       "       [ 7. ],\n",
       "       [ 2. ],\n",
       "       [ 5.3],\n",
       "       [ 8. ],\n",
       "       [ 3. ],\n",
       "       [ 2. ],\n",
       "       [ 2. ],\n",
       "       [ 2.1],\n",
       "       [ 5. ],\n",
       "       [ 8. ],\n",
       "       [ 1. ],\n",
       "       [ 4. ],\n",
       "       [ 1. ],\n",
       "       [ 3. ],\n",
       "       [ 2. ],\n",
       "       [10. ],\n",
       "       [ 6. ],\n",
       "       [10. ],\n",
       "       [ 2.5],\n",
       "       [10. ],\n",
       "       [ 3.4],\n",
       "       [ 5. ],\n",
       "       [ 3. ]])"
      ]
     },
     "execution_count": 20,
     "metadata": {},
     "output_type": "execute_result"
    }
   ],
   "source": [
    "X_train"
   ]
  },
  {
   "cell_type": "markdown",
   "metadata": {},
   "source": [
    "**Entrenamiento del modelo:**"
   ]
  },
  {
   "cell_type": "code",
   "execution_count": 21,
   "metadata": {},
   "outputs": [
    {
     "data": {
      "text/plain": [
       "LinearRegression()"
      ]
     },
     "execution_count": 21,
     "metadata": {},
     "output_type": "execute_result"
    }
   ],
   "source": [
    "regressor = LinearRegression()\n",
    "regressor.fit(X_train, Y_train)"
   ]
  },
  {
   "cell_type": "markdown",
   "metadata": {},
   "source": [
    "**Predicción con el modelo:**"
   ]
  },
  {
   "cell_type": "code",
   "execution_count": 24,
   "metadata": {},
   "outputs": [
    {
     "data": {
      "image/png": "[encoded data removed]",
      "text/plain": [
       "<Figure size 432x288 with 1 Axes>"
      ]
     },
     "metadata": {
      "needs_background": "light"
     },
     "output_type": "display_data"
    }
   ],
   "source": [
    "viz_train = plt\n",
    "viz_train.scatter(X_train, Y_train, color = 'blue')\n",
    "viz_train.plot(X_train, regressor.predict(X_train), color = 'black')\n",
    "viz_train.title('Salario VS Experiencia (Entrenamiento)')\n",
    "viz_train.xlabel('Experiencia')\n",
    "viz_train.ylabel('Salario')\n",
    "viz_train.show()"
   ]
  },
  {
   "cell_type": "code",
   "execution_count": 28,
   "metadata": {},
   "outputs": [
    {
     "data": {
      "image/png": "[encoded data removed]",
      "text/plain": [
       "<Figure size 432x288 with 1 Axes>"
      ]
     },
     "metadata": {
      "needs_background": "light"
     },
     "output_type": "display_data"
    }
   ],
   "source": [
    "viz_test = plt\n",
    "viz_test.scatter(X_test, Y_test, color = 'red')\n",
    "viz_test.plot(X_train, regressor.predict(X_train), color='black')\n",
    "viz_train.title('Salario VS Experiencia (Prueba)')\n",
    "viz_train.xlabel('Experiencia')\n",
    "viz_train.ylabel('Salario')\n",
    "viz_test.show()"
   ]
  },
  {
   "cell_type": "markdown",
   "metadata": {},
   "source": [
    "Acierta el 78% de veces que le se pasan nuevos datos que nunca antes ha visto el modelo"
   ]
  },
  {
   "cell_type": "code",
   "execution_count": 29,
   "metadata": {},
   "outputs": [
    {
     "data": {
      "text/plain": [
       "0.7862437374732997"
      ]
     },
     "execution_count": 29,
     "metadata": {},
     "output_type": "execute_result"
    }
   ],
   "source": [
    "regressor.score(X_test, Y_test)"
   ]
  },
  {
   "cell_type": "markdown",
   "metadata": {},
   "source": [
    "## Regresión lineal multiple"
   ]
  },
  {
   "cell_type": "code",
   "execution_count": 83,
   "metadata": {},
   "outputs": [],
   "source": [
    "import random"
   ]
  },
  {
   "cell_type": "code",
   "execution_count": 84,
   "metadata": {},
   "outputs": [],
   "source": [
    "# ES:0, IN:1, CH:2, EU:3 \n",
    "countries = ['ES', 'IN', 'CH', 'EU']"
   ]
  },
  {
   "cell_type": "code",
   "execution_count": 85,
   "metadata": {},
   "outputs": [
    {
     "data": {
      "text/html": [
       "<div>\n",
       "<style scoped>\n",
       "    .dataframe tbody tr th:only-of-type {\n",
       "        vertical-align: middle;\n",
       "    }\n",
       "\n",
       "    .dataframe tbody tr th {\n",
       "        vertical-align: top;\n",
       "    }\n",
       "\n",
       "    .dataframe thead th {\n",
       "        text-align: right;\n",
       "    }\n",
       "</style>\n",
       "<table border=\"1\" class=\"dataframe\">\n",
       "  <thead>\n",
       "    <tr style=\"text-align: right;\">\n",
       "      <th></th>\n",
       "      <th>Aexperiencia</th>\n",
       "      <th>Salario</th>\n",
       "      <th>Pais</th>\n",
       "    </tr>\n",
       "  </thead>\n",
       "  <tbody>\n",
       "    <tr>\n",
       "      <th>0</th>\n",
       "      <td>10.0</td>\n",
       "      <td>42500</td>\n",
       "      <td>2</td>\n",
       "    </tr>\n",
       "    <tr>\n",
       "      <th>1</th>\n",
       "      <td>8.0</td>\n",
       "      <td>36302</td>\n",
       "      <td>3</td>\n",
       "    </tr>\n",
       "    <tr>\n",
       "      <th>2</th>\n",
       "      <td>5.4</td>\n",
       "      <td>35000</td>\n",
       "      <td>3</td>\n",
       "    </tr>\n",
       "    <tr>\n",
       "      <th>3</th>\n",
       "      <td>2.5</td>\n",
       "      <td>18103</td>\n",
       "      <td>1</td>\n",
       "    </tr>\n",
       "    <tr>\n",
       "      <th>4</th>\n",
       "      <td>1.0</td>\n",
       "      <td>15000</td>\n",
       "      <td>3</td>\n",
       "    </tr>\n",
       "    <tr>\n",
       "      <th>5</th>\n",
       "      <td>8.0</td>\n",
       "      <td>37000</td>\n",
       "      <td>0</td>\n",
       "    </tr>\n",
       "    <tr>\n",
       "      <th>6</th>\n",
       "      <td>4.0</td>\n",
       "      <td>26300</td>\n",
       "      <td>2</td>\n",
       "    </tr>\n",
       "    <tr>\n",
       "      <th>7</th>\n",
       "      <td>6.0</td>\n",
       "      <td>35201</td>\n",
       "      <td>1</td>\n",
       "    </tr>\n",
       "    <tr>\n",
       "      <th>8</th>\n",
       "      <td>2.0</td>\n",
       "      <td>18302</td>\n",
       "      <td>2</td>\n",
       "    </tr>\n",
       "    <tr>\n",
       "      <th>9</th>\n",
       "      <td>10.0</td>\n",
       "      <td>42000</td>\n",
       "      <td>1</td>\n",
       "    </tr>\n",
       "    <tr>\n",
       "      <th>10</th>\n",
       "      <td>4.0</td>\n",
       "      <td>27000</td>\n",
       "      <td>2</td>\n",
       "    </tr>\n",
       "    <tr>\n",
       "      <th>11</th>\n",
       "      <td>7.0</td>\n",
       "      <td>35201</td>\n",
       "      <td>2</td>\n",
       "    </tr>\n",
       "    <tr>\n",
       "      <th>12</th>\n",
       "      <td>3.0</td>\n",
       "      <td>19201</td>\n",
       "      <td>1</td>\n",
       "    </tr>\n",
       "    <tr>\n",
       "      <th>13</th>\n",
       "      <td>5.0</td>\n",
       "      <td>28000</td>\n",
       "      <td>2</td>\n",
       "    </tr>\n",
       "    <tr>\n",
       "      <th>14</th>\n",
       "      <td>2.0</td>\n",
       "      <td>17000</td>\n",
       "      <td>3</td>\n",
       "    </tr>\n",
       "    <tr>\n",
       "      <th>15</th>\n",
       "      <td>5.0</td>\n",
       "      <td>33402</td>\n",
       "      <td>2</td>\n",
       "    </tr>\n",
       "    <tr>\n",
       "      <th>16</th>\n",
       "      <td>3.0</td>\n",
       "      <td>19000</td>\n",
       "      <td>0</td>\n",
       "    </tr>\n",
       "    <tr>\n",
       "      <th>17</th>\n",
       "      <td>2.0</td>\n",
       "      <td>18200</td>\n",
       "      <td>0</td>\n",
       "    </tr>\n",
       "    <tr>\n",
       "      <th>18</th>\n",
       "      <td>3.0</td>\n",
       "      <td>19000</td>\n",
       "      <td>3</td>\n",
       "    </tr>\n",
       "    <tr>\n",
       "      <th>19</th>\n",
       "      <td>2.0</td>\n",
       "      <td>17301</td>\n",
       "      <td>3</td>\n",
       "    </tr>\n",
       "    <tr>\n",
       "      <th>20</th>\n",
       "      <td>5.0</td>\n",
       "      <td>28000</td>\n",
       "      <td>1</td>\n",
       "    </tr>\n",
       "    <tr>\n",
       "      <th>21</th>\n",
       "      <td>3.4</td>\n",
       "      <td>20000</td>\n",
       "      <td>1</td>\n",
       "    </tr>\n",
       "    <tr>\n",
       "      <th>22</th>\n",
       "      <td>5.3</td>\n",
       "      <td>27900</td>\n",
       "      <td>0</td>\n",
       "    </tr>\n",
       "    <tr>\n",
       "      <th>23</th>\n",
       "      <td>2.1</td>\n",
       "      <td>17500</td>\n",
       "      <td>0</td>\n",
       "    </tr>\n",
       "    <tr>\n",
       "      <th>24</th>\n",
       "      <td>9.2</td>\n",
       "      <td>40000</td>\n",
       "      <td>1</td>\n",
       "    </tr>\n",
       "    <tr>\n",
       "      <th>25</th>\n",
       "      <td>10.0</td>\n",
       "      <td>42500</td>\n",
       "      <td>2</td>\n",
       "    </tr>\n",
       "    <tr>\n",
       "      <th>26</th>\n",
       "      <td>3.2</td>\n",
       "      <td>18300</td>\n",
       "      <td>1</td>\n",
       "    </tr>\n",
       "    <tr>\n",
       "      <th>27</th>\n",
       "      <td>10.0</td>\n",
       "      <td>40000</td>\n",
       "      <td>0</td>\n",
       "    </tr>\n",
       "    <tr>\n",
       "      <th>28</th>\n",
       "      <td>4.0</td>\n",
       "      <td>25000</td>\n",
       "      <td>2</td>\n",
       "    </tr>\n",
       "    <tr>\n",
       "      <th>29</th>\n",
       "      <td>1.0</td>\n",
       "      <td>15000</td>\n",
       "      <td>2</td>\n",
       "    </tr>\n",
       "  </tbody>\n",
       "</table>\n",
       "</div>"
      ],
      "text/plain": [
       "    Aexperiencia  Salario  Pais\n",
       "0           10.0    42500     2\n",
       "1            8.0    36302     3\n",
       "2            5.4    35000     3\n",
       "3            2.5    18103     1\n",
       "4            1.0    15000     3\n",
       "5            8.0    37000     0\n",
       "6            4.0    26300     2\n",
       "7            6.0    35201     1\n",
       "8            2.0    18302     2\n",
       "9           10.0    42000     1\n",
       "10           4.0    27000     2\n",
       "11           7.0    35201     2\n",
       "12           3.0    19201     1\n",
       "13           5.0    28000     2\n",
       "14           2.0    17000     3\n",
       "15           5.0    33402     2\n",
       "16           3.0    19000     0\n",
       "17           2.0    18200     0\n",
       "18           3.0    19000     3\n",
       "19           2.0    17301     3\n",
       "20           5.0    28000     1\n",
       "21           3.4    20000     1\n",
       "22           5.3    27900     0\n",
       "23           2.1    17500     0\n",
       "24           9.2    40000     1\n",
       "25          10.0    42500     2\n",
       "26           3.2    18300     1\n",
       "27          10.0    40000     0\n",
       "28           4.0    25000     2\n",
       "29           1.0    15000     2"
      ]
     },
     "execution_count": 85,
     "metadata": {},
     "output_type": "execute_result"
    }
   ],
   "source": [
    "df = pd.read_csv('../Datasets/salarios.csv')\n",
    "df['Pais'] = [random.randint(0,3) for _ in range(df.shape[0])]\n",
    "df"
   ]
  },
  {
   "cell_type": "code",
   "execution_count": 86,
   "metadata": {},
   "outputs": [
    {
     "data": {
      "text/plain": [
       "(    Aexperiencia  Pais\n",
       " 0           10.0     2\n",
       " 1            8.0     3\n",
       " 2            5.4     3\n",
       " 3            2.5     1\n",
       " 4            1.0     3\n",
       " 5            8.0     0\n",
       " 6            4.0     2\n",
       " 7            6.0     1\n",
       " 8            2.0     2\n",
       " 9           10.0     1\n",
       " 10           4.0     2\n",
       " 11           7.0     2\n",
       " 12           3.0     1\n",
       " 13           5.0     2\n",
       " 14           2.0     3\n",
       " 15           5.0     2\n",
       " 16           3.0     0\n",
       " 17           2.0     0\n",
       " 18           3.0     3\n",
       " 19           2.0     3\n",
       " 20           5.0     1\n",
       " 21           3.4     1\n",
       " 22           5.3     0\n",
       " 23           2.1     0\n",
       " 24           9.2     1\n",
       " 25          10.0     2\n",
       " 26           3.2     1\n",
       " 27          10.0     0\n",
       " 28           4.0     2\n",
       " 29           1.0     2,\n",
       " array([42500, 36302, 35000, 18103, 15000, 37000, 26300, 35201, 18302,\n",
       "        42000, 27000, 35201, 19201, 28000, 17000, 33402, 19000, 18200,\n",
       "        19000, 17301, 28000, 20000, 27900, 17500, 40000, 42500, 18300,\n",
       "        40000, 25000, 15000], dtype=int64))"
      ]
     },
     "execution_count": 86,
     "metadata": {},
     "output_type": "execute_result"
    }
   ],
   "source": [
    "x = df.drop('Salario', axis=1)\n",
    "y = df.iloc[:, 1].values\n",
    "x,y"
   ]
  },
  {
   "cell_type": "code",
   "execution_count": 87,
   "metadata": {},
   "outputs": [],
   "source": [
    "X_train, X_test, Y_train, Y_test = train_test_split(x, y, test_size = 0.2, random_state = 0)"
   ]
  },
  {
   "cell_type": "code",
   "execution_count": 88,
   "metadata": {},
   "outputs": [
    {
     "data": {
      "text/plain": [
       "LinearRegression()"
      ]
     },
     "execution_count": 88,
     "metadata": {},
     "output_type": "execute_result"
    }
   ],
   "source": [
    "regressor = LinearRegression()\n",
    "regressor.fit(X_train, Y_train)"
   ]
  },
  {
   "cell_type": "code",
   "execution_count": 89,
   "metadata": {},
   "outputs": [
    {
     "data": {
      "text/plain": [
       "0.8140602330250117"
      ]
     },
     "execution_count": 89,
     "metadata": {},
     "output_type": "execute_result"
    }
   ],
   "source": [
    "regressor.score(X_test, Y_test)"
   ]
  },
  {
   "cell_type": "code",
   "execution_count": 90,
   "metadata": {},
   "outputs": [],
   "source": [
    "from mpl_toolkits.mplot3d import Axes3D"
   ]
  },
  {
   "cell_type": "code",
   "execution_count": 91,
   "metadata": {},
   "outputs": [
    {
     "name": "stderr",
     "output_type": "stream",
     "text": [
      "C:\\Users\\sumit\\AppData\\Local\\Temp/ipykernel_15948/2640713469.py:2: MatplotlibDeprecationWarning: Axes3D(fig) adding itself to the figure is deprecated since 3.4. Pass the keyword argument auto_add_to_figure=False and use fig.add_axes(ax) to suppress this warning. The default value of auto_add_to_figure will change to False in mpl3.5 and True values will no longer work in 3.6.  This is consistent with other Axes classes.\n",
      "  ax = Axes3D(fig)\n"
     ]
    },
    {
     "data": {
      "image/png": "[encoded data removed]",
      "text/plain": [
       "<Figure size 432x288 with 1 Axes>"
      ]
     },
     "metadata": {
      "needs_background": "light"
     },
     "output_type": "display_data"
    }
   ],
   "source": [
    "fig = plt.figure()\n",
    "ax = Axes3D(fig)\n",
    "ax.scatter3D(X_train['Aexperiencia'], X_train['Pais'], Y_train, color='blue')\n",
    "ax.scatter3D(X_train['Aexperiencia'], X_train['Pais'], regressor.predict(X_train), color='red')\n",
    "ax.set_xlabel('Experiencia')\n",
    "ax.set_ylabel('Paises')\n",
    "ax.set_zlabel('Salario')\n",
    "plt.show()"
   ]
  }
 ],
 "metadata": {
  "colab": {
   "collapsed_sections": [],
   "name": "Copia de Regresion lineal simple com scikit learn division de los datos.ipynb",
   "provenance": [
    {
     "file_id": "1xG00YTx7ZTHm22z_5I94BkxSXTyWgp8S",
     "timestamp": 1630024786771
    },
    {
     "file_id": "1sY3bmZs9w4liS5MA_AREaGLmIH3rPA7j",
     "timestamp": 1566936552393
    }
   ]
  },
  "kernelspec": {
   "display_name": "Python 3 (ipykernel)",
   "language": "python",
   "name": "python3"
  },
  "language_info": {
   "codemirror_mode": {
    "name": "ipython",
    "version": 3
   },
   "file_extension": ".py",
   "mimetype": "text/x-python",
   "name": "python",
   "nbconvert_exporter": "python",
   "pygments_lexer": "ipython3",
   "version": "3.9.6"
  }
 },
 "nbformat": 4,
 "nbformat_minor": 1
}
